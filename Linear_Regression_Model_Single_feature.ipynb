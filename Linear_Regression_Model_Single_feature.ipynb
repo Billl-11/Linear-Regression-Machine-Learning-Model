{
  "nbformat": 4,
  "nbformat_minor": 0,
  "metadata": {
    "colab": {
      "provenance": []
    },
    "kernelspec": {
      "name": "python3",
      "display_name": "Python 3"
    },
    "language_info": {
      "name": "python"
    }
  },
  "cells": [
    {
      "cell_type": "markdown",
      "source": [
        "# **Linear Regression Model**\n",
        "\n",
        "This is a implementation of linear regression model which is a machine learning algorithm based on supervised learning. It performs a regression task. Regression models a target prediction value based on independent variables. It is mostly used for finding out the relationship between variables and forecasting.\n",
        "\n",
        "\n",
        "*  **Goals**\n",
        "\n",
        "    The goal of this project is to create an ML model that can predict house prices based on the number of bedrooms in the house.\n",
        "\n",
        "*  **Data Condition**\n",
        "\n",
        "  - Using dummy data which is `bedrooms` and `house_price`\n",
        "  - Single feature"
      ],
      "metadata": {
        "id": "GT4Kk1aTJ1Ia"
      }
    },
    {
      "cell_type": "markdown",
      "source": [
        "## Prepare Tools and Materials"
      ],
      "metadata": {
        "id": "4EOzRL38OruS"
      }
    },
    {
      "cell_type": "code",
      "execution_count": 1,
      "metadata": {
        "id": "cVBvCZ1G2PWB"
      },
      "outputs": [],
      "source": [
        "# Library\n",
        "import numpy as np\n",
        "import matplotlib.pyplot as plt\n",
        "from mpl_toolkits import mplot3d"
      ]
    },
    {
      "cell_type": "code",
      "source": [
        "#number of bedrooms data\n",
        "bedrooms = np.array([1,1,2,2,3,4,4,5,5,5])\n",
        "\n",
        "#house price data, assumptions in dollars\n",
        "house_price = np.array([15000, 18000, 27000, 34000, 50000, 68000, 65000, 81000,85000, 90000])\n",
        "\n",
        "print(bedrooms, house_price)"
      ],
      "metadata": {
        "id": "WMYes9uR2w_i",
        "colab": {
          "base_uri": "https://localhost:8080/"
        },
        "outputId": "b8ba3836-396d-447f-e202-0aa4b9cacd3a"
      },
      "execution_count": 2,
      "outputs": [
        {
          "output_type": "stream",
          "name": "stdout",
          "text": [
            "[1 1 2 2 3 4 4 5 5 5] [15000 18000 27000 34000 50000 68000 65000 81000 85000 90000]\n"
          ]
        }
      ]
    },
    {
      "cell_type": "code",
      "source": [
        "# Set data length\n",
        "m = len(bedrooms)\n",
        "m"
      ],
      "metadata": {
        "id": "BkRdgBL53MvD",
        "colab": {
          "base_uri": "https://localhost:8080/"
        },
        "outputId": "ff9e4e61-17c9-49e0-af79-a15c6d9ee276"
      },
      "execution_count": 3,
      "outputs": [
        {
          "output_type": "execute_result",
          "data": {
            "text/plain": [
              "10"
            ]
          },
          "metadata": {},
          "execution_count": 3
        }
      ]
    },
    {
      "cell_type": "code",
      "source": [
        "#@title Visualize data of `bedrooms` and `house_price`\n",
        "\n",
        "plt.scatter(bedrooms,house_price)\n",
        "plt.title('House price Data')\n",
        "plt.xlabel('Number of bedrooms')\n",
        "plt.ylabel('House Price')\n",
        "plt.show()"
      ],
      "metadata": {
        "colab": {
          "base_uri": "https://localhost:8080/",
          "height": 295
        },
        "id": "sUktMRe026Tw",
        "outputId": "b117a421-985b-4643-c135-ac21d856d334"
      },
      "execution_count": 4,
      "outputs": [
        {
          "output_type": "display_data",
          "data": {
            "text/plain": [
              "<Figure size 432x288 with 1 Axes>"
            ],
            "image/png": "[encoded data removed]"
          },
          "metadata": {
            "needs_background": "light"
          }
        }
      ]
    },
    {
      "cell_type": "markdown",
      "source": [
        "## Math Equation\n",
        "\n",
        "- ### **Linear Regression**\n",
        "In linear regression, the method is to ultilize data input to fit the parameters $w$,$b$ by minimizing a measure of the error between model predictions and the actual data. The measure is called the $cost$.\n",
        "In Linear Regression, the cost function is :\n",
        "$$J(w,b) = \\frac{1}{2m} \\sum\\limits_{i = 0}^{m-1} (f_{w,b}(x^{(i)}) - y^{(i)})^2\\tag{1}$$  where,$$f_{w,b}(x^{(i)}) = wx^{(i)} + b \\tag{2}$$\n",
        "\n",
        "- ### **Gradient Descent**\n",
        "To find the best $w$,$b$ value to minimize the $cost$ is by using *Gradient Descent* to find local minimum. It is defined as: \n",
        "\n",
        "  **Repeat the following steps until convergence:**\n",
        "\n",
        "\\begin{align}\n",
        " w &= w -  \\alpha \\frac{1}{m} \\sum\\limits_{i = 0}^{m-1} (f_{w,b}(x^{(i)}) - y^{(i)})x^{(i)} \\tag{3}\\\\\n",
        "b &= b -  \\alpha \\frac{1}{m} \\sum\\limits_{i = 0}^{m-1} (f_{w,b}(x^{(i)}) - y^{(i)} \\tag{4}\\\n",
        "\\end{align}\n",
        "\n",
        "\n",
        "parameters $w$, $b$ are updated simultaneously. Means that you calculate the derivatives for all the parameters before updating $w$,$b$."
      ],
      "metadata": {
        "id": "wp_75FaBohSL"
      }
    },
    {
      "cell_type": "markdown",
      "source": [
        "## Math Implementation in Python\n",
        "In this code, the implementation will be in 2 different functions :\n",
        "- `cost_function` implementing equation (1) and (2) to calculate cost\n",
        "- `gradient_descent` implementing equation (3) and (4) to update $w$,$b$ value"
      ],
      "metadata": {
        "id": "HBsr-lQSoldC"
      }
    },
    {
      "cell_type": "code",
      "source": [
        "def cost_function (x,y,w,b,m):\n",
        "  sum_cost = 0\n",
        "  for i in range(m):\n",
        "    j_wb = ((w * x[i])+b - y[i])**2\n",
        "    sum_cost = sum_cost + (1/(2*m)  * j_wb)\n",
        "\n",
        "  return sum_cost"
      ],
      "metadata": {
        "id": "GL_WAjViLKO-"
      },
      "execution_count": 5,
      "outputs": []
    },
    {
      "cell_type": "code",
      "source": [
        "def gradient_descent (x, y, w, b, alpha, m):\n",
        "    for j in range(m):\n",
        "        dw = (((w * (x[j])) + b - y[j]) * x[j])/m\n",
        "        db = ((w * (x[j])) + b - y[j])/m\n",
        "        w = w - (alpha * dw)\n",
        "        b = b - (alpha * db)\n",
        "    return w, b"
      ],
      "metadata": {
        "id": "WL7ezQAEC4zL"
      },
      "execution_count": 6,
      "outputs": []
    },
    {
      "cell_type": "markdown",
      "source": [
        "## Compute All!\n",
        "\n",
        "Here is a brief explanation the logic of code below that ultilize both fuctions to find best $w$, and $b$ value to produce the lowest $cost$:\n",
        "- `w`, and `b` value will start as 0\n",
        "- $alpha$ or *learning rate* will be set at 0.001\n",
        "- the program will iterate for 30,000 times\n",
        "- the program will save it's current $cost$, $w$, and $b$ to `final_cost`,`final_w`, and `final_b` but keep changing it if there is lower cost\n",
        "- Finally, the program will print out the lowest $cost$ after iterate for 30,000 times and print out it's $w$, and $b$ value for corresponding $cost$\n",
        "\n"
      ],
      "metadata": {
        "id": "xGURAJ0mnECX"
      }
    },
    {
      "cell_type": "code",
      "source": [
        "cost_list,w_list,b_list=[],[],[]\n",
        "w=0\n",
        "b=0\n",
        "alpha = 0.001\n",
        "final_w = final_b= 0\n",
        "\n",
        "final_cost = cost_function (bedrooms,house_price,0,0,m)\n",
        "\n",
        "for i in range (30000):\n",
        "  cost = 0\n",
        "\n",
        "  # list for graph\n",
        "  w_list.append(w)\n",
        "\n",
        "  # calculate cost\n",
        "  cost = cost_function(bedrooms,house_price,w,b,m)\n",
        "  cost_list.append(cost)\n",
        "\n",
        "  # save W dand B for lowest cost function\n",
        "  if cost < final_cost:\n",
        "    final_w = w\n",
        "    final_b = b\n",
        "\n",
        "  w, b = gradient_descent (bedrooms, house_price, w, b, alpha, m)\n",
        "  final_cost = cost_function (bedrooms,house_price,final_w,final_b,m)\n",
        "\n",
        "print(f'Lowest cost\\t: {final_cost}\\nW Value\\t\\t: {np.round(final_w)}\\nB Value\\t\\t: {np.round(final_b)}')"
      ],
      "metadata": {
        "colab": {
          "base_uri": "https://localhost:8080/"
        },
        "id": "3ZBslqtCK7fW",
        "outputId": "a844671d-7c7e-4d66-b819-759876236aa1"
      },
      "execution_count": 7,
      "outputs": [
        {
          "output_type": "stream",
          "name": "stdout",
          "text": [
            "Lowest cost\t: 4424666.360801171\n",
            "W Value\t\t: 17426.0\n",
            "B Value\t\t: -2454.0\n"
          ]
        }
      ]
    },
    {
      "cell_type": "code",
      "source": [
        "plt.title('Gradient Descent Graph')\n",
        "plt.plot(w_list,cost_list, c='b')\n",
        "plt.scatter(final_w,final_cost, label = 'local minimum', c='g')\n",
        "plt.xlabel('W Value')\n",
        "plt.ylabel('Cost')\n",
        "plt.legend()\n",
        "plt.show"
      ],
      "metadata": {
        "colab": {
          "base_uri": "https://localhost:8080/",
          "height": 313
        },
        "id": "YhMjhcERFgtU",
        "outputId": "21312e27-2e3e-4a25-a06f-2576f235926a"
      },
      "execution_count": 8,
      "outputs": [
        {
          "output_type": "execute_result",
          "data": {
            "text/plain": [
              "<function matplotlib.pyplot.show(*args, **kw)>"
            ]
          },
          "metadata": {},
          "execution_count": 8
        },
        {
          "output_type": "display_data",
          "data": {
            "text/plain": [
              "<Figure size 432x288 with 1 Axes>"
            ],
            "image/png": "[encoded data removed]"
          },
          "metadata": {
            "needs_background": "light"
          }
        }
      ]
    },
    {
      "cell_type": "markdown",
      "source": [
        ">You see from graph above that $w$ value is already in local minimum of the graph, by that means $w$ value is in the perfect spot to make a lowest $cost$"
      ],
      "metadata": {
        "id": "g4vzNc0hrHK4"
      }
    },
    {
      "cell_type": "markdown",
      "source": [
        "## Visualize the model prediction towards the actual data\n",
        "Visualizing the model prediction by calculate house price prediction using actual data and $w$, and $b$ values. The prediction will be notated as $\\hat{y}$. It is calculated as follows:\n",
        "$$\\hat{y} = wx^{(i)} + b \\tag{5}$$\n",
        "\n",
        "`final_model` function will apply the formula above(5)"
      ],
      "metadata": {
        "id": "KkXB1sYebi2c"
      }
    },
    {
      "cell_type": "code",
      "source": [
        "def final_model (m,w,b,x):\n",
        "  y_hat = np.zeros(m)\n",
        "  for i in range(m):\n",
        "    y_hat[i] = (w * x[i])+b\n",
        "    \n",
        "  return y_hat"
      ],
      "metadata": {
        "id": "zh-2e8dL9Q3H"
      },
      "execution_count": 9,
      "outputs": []
    },
    {
      "cell_type": "code",
      "source": [
        "y_hat = final_model(m, final_w, final_b, bedrooms)\n",
        "\n",
        "plt.scatter(bedrooms,house_price, label = 'Actual data', c='b')\n",
        "plt.plot(bedrooms, y_hat, label='Model prediction', c='g')\n",
        "plt.title('House Price Model Prediction')\n",
        "plt.xlabel('Number of bedrooms')\n",
        "plt.ylabel('House Price')\n",
        "plt.legend()\n",
        "plt.show()"
      ],
      "metadata": {
        "colab": {
          "base_uri": "https://localhost:8080/",
          "height": 295
        },
        "id": "a-JdbPln5291",
        "outputId": "a7efd672-5a6e-46fd-d965-13bf2d120313"
      },
      "execution_count": 10,
      "outputs": [
        {
          "output_type": "display_data",
          "data": {
            "text/plain": [
              "<Figure size 432x288 with 1 Axes>"
            ],
            "image/png": "[encoded data removed]"
          },
          "metadata": {
            "needs_background": "light"
          }
        }
      ]
    },
    {
      "cell_type": "markdown",
      "source": [
        "## Model Accuracy\n",
        "\n",
        "To check the accuracy of model prediction, this project will use R-Squared formula. The R-Squared value ranges from 0 to 1. Value of 1 indicates that the model perfectly fits the data, while a value of 0 indicates that the model has no explanatory power. It is calculated as follows:\n",
        "$$ R^2 = 1 - \\frac{\\sum_{i=1}^{n} (y_i - \\hat{y}i)^2}{\\sum{i=1}^{n} (y_i - \\bar{y})^2} \\tag{6}$$\n",
        "\n",
        "Where $y_i$ is the actual value for the $i^{th}$ observation, $\\hat{y}_i$ is the predicted value for the $i^{th}$ observation, and $\\bar{y}$ is the mean of the actual values. "
      ],
      "metadata": {
        "id": "zkrztmGyV3BI"
      }
    },
    {
      "cell_type": "code",
      "source": [
        "r2 = 0\n",
        "y_means = np.mean(house_price)\n",
        "\n",
        "for i in range (m):\n",
        "  diff_1 = (house_price[i] - y_hat[i])**2\n",
        "  diff_2 = (house_price[i] - y_means)**2\n",
        "  r2 += 1 - (diff_1/diff_2)\n",
        "\n",
        "result = r2 / m \n",
        "print(f'R-Squared value is: {np.round(result,5)}')\n",
        "print(f'So the accuracy is: {np.round(result * 100,2)}%')"
      ],
      "metadata": {
        "id": "GEGCUSBB8Hmz",
        "colab": {
          "base_uri": "https://localhost:8080/"
        },
        "outputId": "9af02153-9a40-40b5-dd30-58175fd3b9b9"
      },
      "execution_count": 11,
      "outputs": [
        {
          "output_type": "stream",
          "name": "stdout",
          "text": [
            "R-Squared value is: 0.98624\n",
            "So the accuracy is: 98.62%\n"
          ]
        }
      ]
    },
    {
      "cell_type": "markdown",
      "source": [
        ">The accuracy is pretty high, which is near 100%"
      ],
      "metadata": {
        "id": "a9lgAs-GfETy"
      }
    },
    {
      "cell_type": "markdown",
      "source": [
        "## Finalize the Model\n",
        "After value of $w$, and $b$ is found, and the accuracy is good, the machine learning model is ready. The formula to apply predefined value of $w$,and $b$ is:\n",
        "$$\\hat{y} = wx + b \\tag{7}$$\n",
        "\n",
        "\n",
        "where the $\\hat{y}$ is a prediction of x given, or in this model is the number of bedrooms.\n",
        "\n",
        "`model_predict` will be the function to use the model based on equation(6)"
      ],
      "metadata": {
        "id": "kFYXCNEQ7N0W"
      }
    },
    {
      "cell_type": "code",
      "source": [
        "def model_predict(w,b,x):\n",
        "  price = (w*x)+b\n",
        "  price = np.round(price,3)\n",
        "  return price"
      ],
      "metadata": {
        "id": "9_0Plw1F7Lk8"
      },
      "execution_count": 12,
      "outputs": []
    },
    {
      "cell_type": "code",
      "source": [
        "#@title Test the model\n",
        "\n",
        "print(f'For 3 bedrooms, the house price prediction is: {model_predict(final_w, final_b, 3)}$ ')\n",
        "print(f'For 7 bedrooms, the house price prediction is: {model_predict(final_w, final_b, 7)}$ ')\n",
        "print(f'For 6 bedrooms, the house price prediction is: {model_predict(final_w, final_b, 6)}$ ')"
      ],
      "metadata": {
        "colab": {
          "base_uri": "https://localhost:8080/"
        },
        "id": "KUK3_7qaXmFW",
        "outputId": "8450e8fa-5c85-44de-9f88-8ea52e7e1229"
      },
      "execution_count": 14,
      "outputs": [
        {
          "output_type": "stream",
          "name": "stdout",
          "text": [
            "For 3 bedrooms, the house price prediction is: 49824.474$ \n",
            "For 7 bedrooms, the house price prediction is: 119529.148$ \n",
            "For 6 bedrooms, the house price prediction is: 102102.98$ \n"
          ]
        }
      ]
    }
  ]
}
